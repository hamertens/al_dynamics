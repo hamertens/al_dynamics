{
 "cells": [
  {
   "cell_type": "code",
   "execution_count": 1,
   "metadata": {},
   "outputs": [],
   "source": [
    "import torch\n",
    "import gpytorch\n",
    "from matplotlib import pyplot as plt\n",
    "import pandas as pd\n",
    "import numpy as np\n",
    "from sklearn.metrics import mean_squared_error\n",
    "from gpytorch.mlls import SumMarginalLogLikelihood"
   ]
  },
  {
   "cell_type": "code",
   "execution_count": 3,
   "metadata": {},
   "outputs": [],
   "source": [
    "DATA_FILEPATH = \"/home/hansm/active_learning/Double_pendulum/data/\"\n",
    "file_path_train_inputs = DATA_FILEPATH + 'train_inputs.csv'\n",
    "df_train_inputs = pd.read_csv(file_path_train_inputs)\n",
    "train_inputs = df_train_inputs.values\n",
    "\n",
    "file_path_train_outputs = DATA_FILEPATH + 'train_outputs.csv'\n",
    "df_train_outputs = pd.read_csv(file_path_train_outputs)\n",
    "train_outputs = df_train_outputs.values\n",
    "\n",
    "# Set the number of rows you want to choose\n",
    "num_rows_to_choose = 1000\n",
    "\n",
    "# Choose 2000 random indices\n",
    "random_indices = np.random.choice(train_inputs.shape[0], size=num_rows_to_choose, replace=False)\n",
    "\n",
    "# Select the corresponding rows from each array\n",
    "train_inputs = train_inputs[random_indices]\n",
    "train_outputs = train_outputs[random_indices]\n",
    "\n",
    "train_inputs = torch.tensor(train_inputs, dtype=torch.float32)"
   ]
  },
  {
   "cell_type": "code",
   "execution_count": 4,
   "metadata": {},
   "outputs": [],
   "source": [
    "class ExactGPModel(gpytorch.models.ExactGP):\n",
    "    def __init__(self, train_x, train_y, likelihood):\n",
    "        super().__init__(train_x, train_y, likelihood)\n",
    "        self.mean_module = gpytorch.means.ConstantMean()\n",
    "        self.covar_module = gpytorch.kernels.ScaleKernel(gpytorch.kernels.RBFKernel())\n",
    "\n",
    "    def forward(self, x):\n",
    "        mean_x = self.mean_module(x)\n",
    "        covar_x = self.covar_module(x)\n",
    "        return gpytorch.distributions.MultivariateNormal(mean_x, covar_x)"
   ]
  },
  {
   "cell_type": "code",
   "execution_count": 5,
   "metadata": {},
   "outputs": [],
   "source": [
    "train_outputs_theta1 = torch.tensor(train_outputs[:, 0], dtype=torch.float32)\n",
    "train_outputs_theta2 = torch.tensor(train_outputs[:, 1], dtype=torch.float32)\n",
    "train_outputs_omega1 = torch.tensor(train_outputs[:, 2], dtype=torch.float32)\n",
    "train_outputs_omega2 = torch.tensor(train_outputs[:, 3], dtype=torch.float32)"
   ]
  },
  {
   "cell_type": "code",
   "execution_count": 6,
   "metadata": {},
   "outputs": [],
   "source": [
    "class ExactGPModel(gpytorch.models.ExactGP):\n",
    "    def __init__(self, train_x, train_y, likelihood):\n",
    "        super().__init__(train_x, train_y, likelihood)\n",
    "        self.mean_module = gpytorch.means.ConstantMean()\n",
    "        self.covar_module = gpytorch.kernels.ScaleKernel(gpytorch.kernels.RBFKernel())\n",
    "\n",
    "    def forward(self, x):\n",
    "        mean_x = self.mean_module(x)\n",
    "        covar_x = self.covar_module(x)\n",
    "        return gpytorch.distributions.MultivariateNormal(mean_x, covar_x)\n",
    "\n",
    "\n",
    "likelihood = gpytorch.likelihoods.GaussianLikelihood()\n",
    "\n",
    "model1 = ExactGPModel(train_inputs, train_outputs_theta1, likelihood)\n",
    "model2 = ExactGPModel(train_inputs, train_outputs_theta2, likelihood)\n",
    "\n",
    "model3 = ExactGPModel(train_inputs, train_outputs_omega1, likelihood)\n",
    "model4 = ExactGPModel(train_inputs, train_outputs_omega2, likelihood)\n",
    "\n"
   ]
  },
  {
   "cell_type": "code",
   "execution_count": 7,
   "metadata": {},
   "outputs": [],
   "source": [
    "model = gpytorch.models.IndependentModelList(model1, model2, model3, model4)\n",
    "likelihood = gpytorch.likelihoods.LikelihoodList(model1.likelihood, model2.likelihood, model3.likelihood, model4.likelihood)"
   ]
  },
  {
   "cell_type": "code",
   "execution_count": 8,
   "metadata": {},
   "outputs": [],
   "source": [
    "from gpytorch.mlls import SumMarginalLogLikelihood\n",
    "\n",
    "mll = SumMarginalLogLikelihood(likelihood, model)"
   ]
  },
  {
   "cell_type": "code",
   "execution_count": 9,
   "metadata": {},
   "outputs": [
    {
     "name": "stdout",
     "output_type": "stream",
     "text": [
      "Iter 1/50 - Loss: 1.402\n",
      "Iter 2/50 - Loss: 1.278\n",
      "Iter 3/50 - Loss: 1.174\n",
      "Iter 4/50 - Loss: 1.080\n",
      "Iter 5/50 - Loss: 0.997\n",
      "Iter 6/50 - Loss: 0.929\n",
      "Iter 7/50 - Loss: 0.866\n",
      "Iter 8/50 - Loss: 0.810\n",
      "Iter 9/50 - Loss: 0.752\n",
      "Iter 10/50 - Loss: 0.704\n",
      "Iter 11/50 - Loss: 0.658\n",
      "Iter 12/50 - Loss: 0.613\n",
      "Iter 13/50 - Loss: 0.564\n",
      "Iter 14/50 - Loss: 0.523\n",
      "Iter 15/50 - Loss: 0.479\n",
      "Iter 16/50 - Loss: 0.437\n",
      "Iter 17/50 - Loss: 0.394\n",
      "Iter 18/50 - Loss: 0.353\n",
      "Iter 19/50 - Loss: 0.313\n",
      "Iter 20/50 - Loss: 0.266\n",
      "Iter 21/50 - Loss: 0.232\n",
      "Iter 22/50 - Loss: 0.198\n",
      "Iter 23/50 - Loss: 0.161\n",
      "Iter 24/50 - Loss: 0.130\n",
      "Iter 25/50 - Loss: 0.089\n",
      "Iter 26/50 - Loss: 0.065\n",
      "Iter 27/50 - Loss: 0.039\n",
      "Iter 28/50 - Loss: 0.007\n",
      "Iter 29/50 - Loss: -0.026\n",
      "Iter 30/50 - Loss: -0.069\n",
      "Iter 31/50 - Loss: -0.091\n",
      "Iter 32/50 - Loss: -0.116\n",
      "Iter 33/50 - Loss: -0.149\n",
      "Iter 34/50 - Loss: -0.185\n",
      "Iter 35/50 - Loss: -0.209\n",
      "Iter 36/50 - Loss: -0.217\n",
      "Iter 37/50 - Loss: -0.248\n",
      "Iter 38/50 - Loss: -0.276\n",
      "Iter 39/50 - Loss: -0.294\n",
      "Iter 40/50 - Loss: -0.321\n",
      "Iter 41/50 - Loss: -0.330\n",
      "Iter 42/50 - Loss: -0.363\n",
      "Iter 43/50 - Loss: -0.384\n",
      "Iter 44/50 - Loss: -0.408\n",
      "Iter 45/50 - Loss: -0.417\n",
      "Iter 46/50 - Loss: -0.451\n",
      "Iter 47/50 - Loss: -0.455\n",
      "Iter 48/50 - Loss: -0.480\n",
      "Iter 49/50 - Loss: -0.507\n",
      "Iter 50/50 - Loss: -0.504\n"
     ]
    }
   ],
   "source": [
    "training_iterations = 50\n",
    "# Find optimal model hyperparameters\n",
    "model.train()\n",
    "likelihood.train()\n",
    "\n",
    "# Use the Adam optimizer\n",
    "optimizer = torch.optim.Adam(model.parameters(), lr=0.1)  # Includes GaussianLikelihood parameters\n",
    "\n",
    "for i in range(training_iterations):\n",
    "    optimizer.zero_grad()\n",
    "    output = model(*model.train_inputs)\n",
    "    loss = -mll(output, model.train_targets)\n",
    "    loss.backward()\n",
    "    print('Iter %d/%d - Loss: %.3f' % (i + 1, training_iterations, loss.item()))\n",
    "    optimizer.step()"
   ]
  },
  {
   "cell_type": "code",
   "execution_count": 11,
   "metadata": {},
   "outputs": [],
   "source": [
    "file_path_test_inputs = DATA_FILEPATH + 'test_inputs.csv'\n",
    "df_test_inputs = pd.read_csv(file_path_test_inputs)\n",
    "test_inputs = df_test_inputs.values\n",
    "\n",
    "file_path_test_outputs = DATA_FILEPATH + 'test_outputs.csv'\n",
    "df_test_outputs = pd.read_csv(file_path_test_outputs)\n",
    "test_outputs = df_test_outputs.values\n",
    "\n",
    "test_inputs = torch.tensor(test_inputs, dtype=torch.float32)"
   ]
  },
  {
   "cell_type": "code",
   "execution_count": 12,
   "metadata": {},
   "outputs": [],
   "source": [
    "# Set into eval mode\n",
    "model.eval()\n",
    "likelihood.eval()\n",
    "\n",
    "\n",
    "# Make predictions (use the same test points)\n",
    "with torch.no_grad(), gpytorch.settings.fast_pred_var():\n",
    "    # This contains predictions for both outcomes as a list\n",
    "    predictions = likelihood(*model(test_inputs, test_inputs, test_inputs, test_inputs))\n",
    "    variance_lst = []\n",
    "    for prediction in predictions:\n",
    "        lower, upper = prediction.confidence_region()\n",
    "        variance = upper.numpy() - lower.numpy()\n",
    "        variance_lst.append(variance)"
   ]
  },
  {
   "cell_type": "code",
   "execution_count": 13,
   "metadata": {},
   "outputs": [
    {
     "name": "stdout",
     "output_type": "stream",
     "text": [
      "<class 'gpytorch.models.model_list.IndependentModelList'>\n"
     ]
    }
   ],
   "source": [
    "print(type(model))"
   ]
  },
  {
   "cell_type": "code",
   "execution_count": 11,
   "metadata": {},
   "outputs": [
    {
     "name": "stdout",
     "output_type": "stream",
     "text": [
      "(6561,)\n"
     ]
    }
   ],
   "source": [
    "print(variance.shape)"
   ]
  },
  {
   "cell_type": "code",
   "execution_count": 12,
   "metadata": {},
   "outputs": [],
   "source": [
    "pred_theta1 = predictions[0].mean.numpy()\n",
    "pred_theta2 = predictions[1].mean.numpy()\n",
    "pred_omega1 = predictions[2].mean.numpy()\n",
    "pred_omega2 = predictions[3].mean.numpy()\n",
    "final_prediction = np.column_stack((pred_theta1, pred_theta2, pred_omega1, pred_omega2))\n",
    "#test_outputs = test_outputs[:, 2:4]\n",
    "\n",
    "RMSE = np.sqrt(mean_squared_error(test_outputs, final_prediction))"
   ]
  },
  {
   "cell_type": "code",
   "execution_count": 13,
   "metadata": {},
   "outputs": [
    {
     "name": "stdout",
     "output_type": "stream",
     "text": [
      "0.13050346633320617\n"
     ]
    }
   ],
   "source": [
    "print(RMSE)"
   ]
  },
  {
   "cell_type": "code",
   "execution_count": 21,
   "metadata": {},
   "outputs": [
    {
     "name": "stdout",
     "output_type": "stream",
     "text": [
      "0.12951670184468683\n"
     ]
    }
   ],
   "source": [
    "print(RMSE)"
   ]
  },
  {
   "cell_type": "code",
   "execution_count": 18,
   "metadata": {},
   "outputs": [
    {
     "name": "stdout",
     "output_type": "stream",
     "text": [
      "(6561, 0)\n"
     ]
    }
   ],
   "source": [
    "print(test_outputs.shape)"
   ]
  },
  {
   "cell_type": "code",
   "execution_count": null,
   "metadata": {},
   "outputs": [],
   "source": []
  }
 ],
 "metadata": {
  "kernelspec": {
   "display_name": "gpytorch",
   "language": "python",
   "name": "python3"
  },
  "language_info": {
   "codemirror_mode": {
    "name": "ipython",
    "version": 3
   },
   "file_extension": ".py",
   "mimetype": "text/x-python",
   "name": "python",
   "nbconvert_exporter": "python",
   "pygments_lexer": "ipython3",
   "version": "3.10.13"
  }
 },
 "nbformat": 4,
 "nbformat_minor": 2
}
