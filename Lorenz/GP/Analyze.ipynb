{
 "cells": [
  {
   "cell_type": "code",
   "execution_count": 2,
   "id": "99791e6e",
   "metadata": {},
   "outputs": [],
   "source": [
    "import pandas as pd\n",
    "import numpy as np\n",
    "import matplotlib.pyplot as plt"
   ]
  },
  {
   "cell_type": "code",
   "execution_count": 3,
   "id": "56882e22",
   "metadata": {},
   "outputs": [],
   "source": [
    "filepath = '/home/hansm/active_learning/Lorenz/GPytorch/predictions.csv'\n",
    "df_predictions = pd.read_csv(filepath)\n",
    "filepath = '/home/hansm/active_learning/Lorenz/GPytorch/training_outputs_active.csv'\n",
    "df_outputs = pd.read_csv(filepath)"
   ]
  },
  {
   "cell_type": "code",
   "execution_count": 4,
   "id": "0db1a83b",
   "metadata": {},
   "outputs": [],
   "source": [
    "predictions = df_predictions.values\n",
    "outputs = df_outputs.values"
   ]
  },
  {
   "cell_type": "code",
   "execution_count": 5,
   "id": "c9621f1d",
   "metadata": {},
   "outputs": [],
   "source": [
    "def check_settling_time(prediction, goal):\n",
    "    # Ensure both arrays have at least 20 entries\n",
    "    if len(prediction) < 20 or len(goal) < 20:\n",
    "        raise ValueError(\"Both arrays should have at least 20 entries.\")\n",
    "\n",
    "    # Take the last 20 entries from both arrays\n",
    "    last_20_prediction = prediction[-20:]\n",
    "    last_20_goal = goal[-20:]\n",
    "\n",
    "    # Calculate the maximum allowed average error (2%)\n",
    "    max_average_error = 0.02\n",
    "\n",
    "    # Check if the average error across all dimensions is within the 2% error band\n",
    "    for val1, val2 in zip(last_20_prediction, last_20_goal):\n",
    "\n",
    "        errors = np.abs(val1 - val2) / val2  # Calculate the percentage error for each dimension\n",
    "        avg_error = np.mean(errors)  # Calculate the average error across all dimensions\n",
    "        if avg_error > max_average_error:\n",
    "            return False  # Average error exceeds the 2% limit\n",
    "\n",
    "    return True  # Average error is within the 2% limit for all 20 entries"
   ]
  },
  {
   "cell_type": "code",
   "execution_count": 8,
   "id": "417c98ed",
   "metadata": {},
   "outputs": [
    {
     "name": "stdout",
     "output_type": "stream",
     "text": [
      "True\n"
     ]
    }
   ],
   "source": [
    "print(check_settling_time(predictions, outputs))"
   ]
  },
  {
   "cell_type": "code",
   "execution_count": 7,
   "id": "5c70946c",
   "metadata": {},
   "outputs": [
    {
     "ename": "NameError",
     "evalue": "name 'rmse' is not defined",
     "output_type": "error",
     "traceback": [
      "\u001b[0;31m---------------------------------------------------------------------------\u001b[0m",
      "\u001b[0;31mNameError\u001b[0m                                 Traceback (most recent call last)",
      "\u001b[1;32m/home/hansm/active_learning/Lorenz/GP/Analyze.ipynb Cell 6\u001b[0m line \u001b[0;36m1\n\u001b[0;32m----> <a href='vscode-notebook-cell://tunnel%2Bkoa/home/hansm/active_learning/Lorenz/GP/Analyze.ipynb#W5sdnNjb2RlLXJlbW90ZQ%3D%3D?line=0'>1</a>\u001b[0m \u001b[39mprint\u001b[39m(rmse)\n",
      "\u001b[0;31mNameError\u001b[0m: name 'rmse' is not defined"
     ]
    }
   ],
   "source": [
    "print(rmse)"
   ]
  },
  {
   "cell_type": "code",
   "execution_count": null,
   "id": "c965b176",
   "metadata": {},
   "outputs": [],
   "source": []
  }
 ],
 "metadata": {
  "kernelspec": {
   "display_name": "Python 3 (ipykernel)",
   "language": "python",
   "name": "python3"
  },
  "language_info": {
   "codemirror_mode": {
    "name": "ipython",
    "version": 3
   },
   "file_extension": ".py",
   "mimetype": "text/x-python",
   "name": "python",
   "nbconvert_exporter": "python",
   "pygments_lexer": "ipython3",
   "version": "3.11.5"
  }
 },
 "nbformat": 4,
 "nbformat_minor": 5
}
